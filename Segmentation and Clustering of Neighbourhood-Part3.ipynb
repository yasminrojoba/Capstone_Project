{
 "cells": [
  {
   "cell_type": "markdown",
   "metadata": {},
   "source": [
    "# Segmentation and Clustering of Neighbourhood"
   ]
  },
  {
   "cell_type": "markdown",
   "metadata": {},
   "source": [
    "### Import Required Module for Python"
   ]
  },
  {
   "cell_type": "code",
   "execution_count": 2,
   "metadata": {},
   "outputs": [],
   "source": [
    "import itertools\n",
    "import pandas as pd\n",
    "import numpy as np\n",
    "import requests\n",
    "from bs4 import BeautifulSoup\n",
    "from pandas.io.json import json_normalize"
   ]
  },
  {
   "cell_type": "markdown",
   "metadata": {},
   "source": [
    "### Code to scrape the Wikipedia page of \"List of postal codes of Canada\""
   ]
  },
  {
   "cell_type": "code",
   "execution_count": 3,
   "metadata": {},
   "outputs": [],
   "source": [
    "req_canada=requests.get('https://en.wikipedia.org/wiki/List_of_postal_codes_of_Canada:_M')\n",
    "soup_canada=BeautifulSoup(req_canada.content,'lxml')\n",
    "table_canada=soup_canada.find_all('table')\n",
    "df=pd.read_html(str(table_canada))"
   ]
  },
  {
   "cell_type": "markdown",
   "metadata": {},
   "source": [
    "### convert the list to dataframe using panda"
   ]
  },
  {
   "cell_type": "code",
   "execution_count": 4,
   "metadata": {},
   "outputs": [
    {
     "data": {
      "text/html": [
       "<div>\n",
       "<style scoped>\n",
       "    .dataframe tbody tr th:only-of-type {\n",
       "        vertical-align: middle;\n",
       "    }\n",
       "\n",
       "    .dataframe tbody tr th {\n",
       "        vertical-align: top;\n",
       "    }\n",
       "\n",
       "    .dataframe thead th {\n",
       "        text-align: right;\n",
       "    }\n",
       "</style>\n",
       "<table border=\"1\" class=\"dataframe\">\n",
       "  <thead>\n",
       "    <tr style=\"text-align: right;\">\n",
       "      <th></th>\n",
       "      <th>Postal Code</th>\n",
       "      <th>Borough</th>\n",
       "      <th>Neighbourhood</th>\n",
       "    </tr>\n",
       "  </thead>\n",
       "  <tbody>\n",
       "    <tr>\n",
       "      <th>0</th>\n",
       "      <td>M1A</td>\n",
       "      <td>Not assigned</td>\n",
       "      <td>Not assigned</td>\n",
       "    </tr>\n",
       "    <tr>\n",
       "      <th>1</th>\n",
       "      <td>M2A</td>\n",
       "      <td>Not assigned</td>\n",
       "      <td>Not assigned</td>\n",
       "    </tr>\n",
       "    <tr>\n",
       "      <th>2</th>\n",
       "      <td>M3A</td>\n",
       "      <td>North York</td>\n",
       "      <td>Parkwoods</td>\n",
       "    </tr>\n",
       "    <tr>\n",
       "      <th>3</th>\n",
       "      <td>M4A</td>\n",
       "      <td>North York</td>\n",
       "      <td>Victoria Village</td>\n",
       "    </tr>\n",
       "    <tr>\n",
       "      <th>4</th>\n",
       "      <td>M5A</td>\n",
       "      <td>Downtown Toronto</td>\n",
       "      <td>Regent Park, Harbourfront</td>\n",
       "    </tr>\n",
       "  </tbody>\n",
       "</table>\n",
       "</div>"
      ],
      "text/plain": [
       "  Postal Code           Borough              Neighbourhood\n",
       "0         M1A      Not assigned               Not assigned\n",
       "1         M2A      Not assigned               Not assigned\n",
       "2         M3A        North York                  Parkwoods\n",
       "3         M4A        North York           Victoria Village\n",
       "4         M5A  Downtown Toronto  Regent Park, Harbourfront"
      ]
     },
     "execution_count": 4,
     "metadata": {},
     "output_type": "execute_result"
    }
   ],
   "source": [
    "neighbor_canada=pd.DataFrame(df[0])\n",
    "neighbor_canada.head()"
   ]
  },
  {
   "cell_type": "markdown",
   "metadata": {},
   "source": [
    "### Ignore cells with a borough that is Not assigned"
   ]
  },
  {
   "cell_type": "code",
   "execution_count": 5,
   "metadata": {},
   "outputs": [
    {
     "data": {
      "text/html": [
       "<div>\n",
       "<style scoped>\n",
       "    .dataframe tbody tr th:only-of-type {\n",
       "        vertical-align: middle;\n",
       "    }\n",
       "\n",
       "    .dataframe tbody tr th {\n",
       "        vertical-align: top;\n",
       "    }\n",
       "\n",
       "    .dataframe thead th {\n",
       "        text-align: right;\n",
       "    }\n",
       "</style>\n",
       "<table border=\"1\" class=\"dataframe\">\n",
       "  <thead>\n",
       "    <tr style=\"text-align: right;\">\n",
       "      <th></th>\n",
       "      <th>Postal Code</th>\n",
       "      <th>Borough</th>\n",
       "      <th>Neighbourhood</th>\n",
       "    </tr>\n",
       "  </thead>\n",
       "  <tbody>\n",
       "    <tr>\n",
       "      <th>2</th>\n",
       "      <td>M3A</td>\n",
       "      <td>North York</td>\n",
       "      <td>Parkwoods</td>\n",
       "    </tr>\n",
       "    <tr>\n",
       "      <th>3</th>\n",
       "      <td>M4A</td>\n",
       "      <td>North York</td>\n",
       "      <td>Victoria Village</td>\n",
       "    </tr>\n",
       "    <tr>\n",
       "      <th>4</th>\n",
       "      <td>M5A</td>\n",
       "      <td>Downtown Toronto</td>\n",
       "      <td>Regent Park, Harbourfront</td>\n",
       "    </tr>\n",
       "    <tr>\n",
       "      <th>5</th>\n",
       "      <td>M6A</td>\n",
       "      <td>North York</td>\n",
       "      <td>Lawrence Manor, Lawrence Heights</td>\n",
       "    </tr>\n",
       "    <tr>\n",
       "      <th>6</th>\n",
       "      <td>M7A</td>\n",
       "      <td>Downtown Toronto</td>\n",
       "      <td>Queen's Park, Ontario Provincial Government</td>\n",
       "    </tr>\n",
       "  </tbody>\n",
       "</table>\n",
       "</div>"
      ],
      "text/plain": [
       "  Postal Code           Borough                                Neighbourhood\n",
       "2         M3A        North York                                    Parkwoods\n",
       "3         M4A        North York                             Victoria Village\n",
       "4         M5A  Downtown Toronto                    Regent Park, Harbourfront\n",
       "5         M6A        North York             Lawrence Manor, Lawrence Heights\n",
       "6         M7A  Downtown Toronto  Queen's Park, Ontario Provincial Government"
      ]
     },
     "execution_count": 5,
     "metadata": {},
     "output_type": "execute_result"
    }
   ],
   "source": [
    "neighbor_canada.drop(neighbor_canada[neighbor_canada['Borough']==\"Not assigned\"].index,axis=0, inplace=True)\n",
    "neighbor_canada.head()"
   ]
  },
  {
   "cell_type": "markdown",
   "metadata": {},
   "source": [
    "### If more than one neighborhood exists in one postal code area, these rows will be combined into one row with the neighborhoods separated with a comma"
   ]
  },
  {
   "cell_type": "code",
   "execution_count": 6,
   "metadata": {},
   "outputs": [],
   "source": [
    "df_canada = neighbor_canada.groupby(['Postal Code','Borough'], sort=False).agg(', '.join)\n",
    "df_canada.reset_index(inplace=True)\n"
   ]
  },
  {
   "cell_type": "markdown",
   "metadata": {},
   "source": [
    "### If a cell has a borough but a Not assigned neighborhood, then the neighborhood will be the same as the borough."
   ]
  },
  {
   "cell_type": "code",
   "execution_count": 7,
   "metadata": {},
   "outputs": [
    {
     "data": {
      "text/html": [
       "<div>\n",
       "<style scoped>\n",
       "    .dataframe tbody tr th:only-of-type {\n",
       "        vertical-align: middle;\n",
       "    }\n",
       "\n",
       "    .dataframe tbody tr th {\n",
       "        vertical-align: top;\n",
       "    }\n",
       "\n",
       "    .dataframe thead th {\n",
       "        text-align: right;\n",
       "    }\n",
       "</style>\n",
       "<table border=\"1\" class=\"dataframe\">\n",
       "  <thead>\n",
       "    <tr style=\"text-align: right;\">\n",
       "      <th></th>\n",
       "      <th>Postal Code</th>\n",
       "      <th>Borough</th>\n",
       "      <th>Neighbourhood</th>\n",
       "    </tr>\n",
       "  </thead>\n",
       "  <tbody>\n",
       "    <tr>\n",
       "      <th>0</th>\n",
       "      <td>M3A</td>\n",
       "      <td>North York</td>\n",
       "      <td>Parkwoods</td>\n",
       "    </tr>\n",
       "    <tr>\n",
       "      <th>1</th>\n",
       "      <td>M4A</td>\n",
       "      <td>North York</td>\n",
       "      <td>Victoria Village</td>\n",
       "    </tr>\n",
       "    <tr>\n",
       "      <th>2</th>\n",
       "      <td>M5A</td>\n",
       "      <td>Downtown Toronto</td>\n",
       "      <td>Regent Park, Harbourfront</td>\n",
       "    </tr>\n",
       "    <tr>\n",
       "      <th>3</th>\n",
       "      <td>M6A</td>\n",
       "      <td>North York</td>\n",
       "      <td>Lawrence Manor, Lawrence Heights</td>\n",
       "    </tr>\n",
       "    <tr>\n",
       "      <th>4</th>\n",
       "      <td>M7A</td>\n",
       "      <td>Downtown Toronto</td>\n",
       "      <td>Queen's Park, Ontario Provincial Government</td>\n",
       "    </tr>\n",
       "  </tbody>\n",
       "</table>\n",
       "</div>"
      ],
      "text/plain": [
       "  Postal Code           Borough                                Neighbourhood\n",
       "0         M3A        North York                                    Parkwoods\n",
       "1         M4A        North York                             Victoria Village\n",
       "2         M5A  Downtown Toronto                    Regent Park, Harbourfront\n",
       "3         M6A        North York             Lawrence Manor, Lawrence Heights\n",
       "4         M7A  Downtown Toronto  Queen's Park, Ontario Provincial Government"
      ]
     },
     "execution_count": 7,
     "metadata": {},
     "output_type": "execute_result"
    }
   ],
   "source": [
    "df_canada.loc[df_canada['Neighbourhood']==\"Not assigned\",'Neighbourhood']=df_canada.loc[df_canada['Neighbourhood']==\"Not assigned\",'Borough']\n",
    "df_canada.head()"
   ]
  },
  {
   "cell_type": "code",
   "execution_count": 8,
   "metadata": {},
   "outputs": [
    {
     "data": {
      "text/plain": [
       "(103, 3)"
      ]
     },
     "execution_count": 8,
     "metadata": {},
     "output_type": "execute_result"
    }
   ],
   "source": [
    "df_canada.shape"
   ]
  },
  {
   "cell_type": "markdown",
   "metadata": {},
   "source": [
    "### Find out the geographical coordinates of each postal code"
   ]
  },
  {
   "cell_type": "code",
   "execution_count": 9,
   "metadata": {},
   "outputs": [],
   "source": [
    "latitude_longitude = pd.read_csv('https://cocl.us/Geospatial_data')\n"
   ]
  },
  {
   "cell_type": "markdown",
   "metadata": {},
   "source": [
    "### Merge the latitude and longitude to the dataframe in separate columns"
   ]
  },
  {
   "cell_type": "code",
   "execution_count": 10,
   "metadata": {},
   "outputs": [],
   "source": [
    "df_with_coordinate = pd.merge(df_canada,latitude_longitude,on='Postal Code')"
   ]
  },
  {
   "cell_type": "markdown",
   "metadata": {},
   "source": [
    "### Find out the neighbourhood of Toronto based on \"Borough\" column"
   ]
  },
  {
   "cell_type": "code",
   "execution_count": 11,
   "metadata": {},
   "outputs": [
    {
     "data": {
      "text/html": [
       "<div>\n",
       "<style scoped>\n",
       "    .dataframe tbody tr th:only-of-type {\n",
       "        vertical-align: middle;\n",
       "    }\n",
       "\n",
       "    .dataframe tbody tr th {\n",
       "        vertical-align: top;\n",
       "    }\n",
       "\n",
       "    .dataframe thead th {\n",
       "        text-align: right;\n",
       "    }\n",
       "</style>\n",
       "<table border=\"1\" class=\"dataframe\">\n",
       "  <thead>\n",
       "    <tr style=\"text-align: right;\">\n",
       "      <th></th>\n",
       "      <th>Postal Code</th>\n",
       "      <th>Borough</th>\n",
       "      <th>Neighbourhood</th>\n",
       "      <th>Latitude</th>\n",
       "      <th>Longitude</th>\n",
       "    </tr>\n",
       "  </thead>\n",
       "  <tbody>\n",
       "    <tr>\n",
       "      <th>2</th>\n",
       "      <td>M5A</td>\n",
       "      <td>Downtown Toronto</td>\n",
       "      <td>Regent Park, Harbourfront</td>\n",
       "      <td>43.654260</td>\n",
       "      <td>-79.360636</td>\n",
       "    </tr>\n",
       "    <tr>\n",
       "      <th>4</th>\n",
       "      <td>M7A</td>\n",
       "      <td>Downtown Toronto</td>\n",
       "      <td>Queen's Park, Ontario Provincial Government</td>\n",
       "      <td>43.662301</td>\n",
       "      <td>-79.389494</td>\n",
       "    </tr>\n",
       "    <tr>\n",
       "      <th>9</th>\n",
       "      <td>M5B</td>\n",
       "      <td>Downtown Toronto</td>\n",
       "      <td>Garden District, Ryerson</td>\n",
       "      <td>43.657162</td>\n",
       "      <td>-79.378937</td>\n",
       "    </tr>\n",
       "    <tr>\n",
       "      <th>15</th>\n",
       "      <td>M5C</td>\n",
       "      <td>Downtown Toronto</td>\n",
       "      <td>St. James Town</td>\n",
       "      <td>43.651494</td>\n",
       "      <td>-79.375418</td>\n",
       "    </tr>\n",
       "    <tr>\n",
       "      <th>19</th>\n",
       "      <td>M4E</td>\n",
       "      <td>East Toronto</td>\n",
       "      <td>The Beaches</td>\n",
       "      <td>43.676357</td>\n",
       "      <td>-79.293031</td>\n",
       "    </tr>\n",
       "    <tr>\n",
       "      <th>20</th>\n",
       "      <td>M5E</td>\n",
       "      <td>Downtown Toronto</td>\n",
       "      <td>Berczy Park</td>\n",
       "      <td>43.644771</td>\n",
       "      <td>-79.373306</td>\n",
       "    </tr>\n",
       "    <tr>\n",
       "      <th>24</th>\n",
       "      <td>M5G</td>\n",
       "      <td>Downtown Toronto</td>\n",
       "      <td>Central Bay Street</td>\n",
       "      <td>43.657952</td>\n",
       "      <td>-79.387383</td>\n",
       "    </tr>\n",
       "    <tr>\n",
       "      <th>25</th>\n",
       "      <td>M6G</td>\n",
       "      <td>Downtown Toronto</td>\n",
       "      <td>Christie</td>\n",
       "      <td>43.669542</td>\n",
       "      <td>-79.422564</td>\n",
       "    </tr>\n",
       "    <tr>\n",
       "      <th>30</th>\n",
       "      <td>M5H</td>\n",
       "      <td>Downtown Toronto</td>\n",
       "      <td>Richmond, Adelaide, King</td>\n",
       "      <td>43.650571</td>\n",
       "      <td>-79.384568</td>\n",
       "    </tr>\n",
       "    <tr>\n",
       "      <th>31</th>\n",
       "      <td>M6H</td>\n",
       "      <td>West Toronto</td>\n",
       "      <td>Dufferin, Dovercourt Village</td>\n",
       "      <td>43.669005</td>\n",
       "      <td>-79.442259</td>\n",
       "    </tr>\n",
       "    <tr>\n",
       "      <th>36</th>\n",
       "      <td>M5J</td>\n",
       "      <td>Downtown Toronto</td>\n",
       "      <td>Harbourfront East, Union Station, Toronto Islands</td>\n",
       "      <td>43.640816</td>\n",
       "      <td>-79.381752</td>\n",
       "    </tr>\n",
       "    <tr>\n",
       "      <th>37</th>\n",
       "      <td>M6J</td>\n",
       "      <td>West Toronto</td>\n",
       "      <td>Little Portugal, Trinity</td>\n",
       "      <td>43.647927</td>\n",
       "      <td>-79.419750</td>\n",
       "    </tr>\n",
       "    <tr>\n",
       "      <th>41</th>\n",
       "      <td>M4K</td>\n",
       "      <td>East Toronto</td>\n",
       "      <td>The Danforth West, Riverdale</td>\n",
       "      <td>43.679557</td>\n",
       "      <td>-79.352188</td>\n",
       "    </tr>\n",
       "    <tr>\n",
       "      <th>42</th>\n",
       "      <td>M5K</td>\n",
       "      <td>Downtown Toronto</td>\n",
       "      <td>Toronto Dominion Centre, Design Exchange</td>\n",
       "      <td>43.647177</td>\n",
       "      <td>-79.381576</td>\n",
       "    </tr>\n",
       "    <tr>\n",
       "      <th>43</th>\n",
       "      <td>M6K</td>\n",
       "      <td>West Toronto</td>\n",
       "      <td>Brockton, Parkdale Village, Exhibition Place</td>\n",
       "      <td>43.636847</td>\n",
       "      <td>-79.428191</td>\n",
       "    </tr>\n",
       "    <tr>\n",
       "      <th>47</th>\n",
       "      <td>M4L</td>\n",
       "      <td>East Toronto</td>\n",
       "      <td>India Bazaar, The Beaches West</td>\n",
       "      <td>43.668999</td>\n",
       "      <td>-79.315572</td>\n",
       "    </tr>\n",
       "    <tr>\n",
       "      <th>48</th>\n",
       "      <td>M5L</td>\n",
       "      <td>Downtown Toronto</td>\n",
       "      <td>Commerce Court, Victoria Hotel</td>\n",
       "      <td>43.648198</td>\n",
       "      <td>-79.379817</td>\n",
       "    </tr>\n",
       "    <tr>\n",
       "      <th>54</th>\n",
       "      <td>M4M</td>\n",
       "      <td>East Toronto</td>\n",
       "      <td>Studio District</td>\n",
       "      <td>43.659526</td>\n",
       "      <td>-79.340923</td>\n",
       "    </tr>\n",
       "    <tr>\n",
       "      <th>61</th>\n",
       "      <td>M4N</td>\n",
       "      <td>Central Toronto</td>\n",
       "      <td>Lawrence Park</td>\n",
       "      <td>43.728020</td>\n",
       "      <td>-79.388790</td>\n",
       "    </tr>\n",
       "    <tr>\n",
       "      <th>62</th>\n",
       "      <td>M5N</td>\n",
       "      <td>Central Toronto</td>\n",
       "      <td>Roselawn</td>\n",
       "      <td>43.711695</td>\n",
       "      <td>-79.416936</td>\n",
       "    </tr>\n",
       "    <tr>\n",
       "      <th>67</th>\n",
       "      <td>M4P</td>\n",
       "      <td>Central Toronto</td>\n",
       "      <td>Davisville North</td>\n",
       "      <td>43.712751</td>\n",
       "      <td>-79.390197</td>\n",
       "    </tr>\n",
       "    <tr>\n",
       "      <th>68</th>\n",
       "      <td>M5P</td>\n",
       "      <td>Central Toronto</td>\n",
       "      <td>Forest Hill North &amp; West, Forest Hill Road Park</td>\n",
       "      <td>43.696948</td>\n",
       "      <td>-79.411307</td>\n",
       "    </tr>\n",
       "    <tr>\n",
       "      <th>69</th>\n",
       "      <td>M6P</td>\n",
       "      <td>West Toronto</td>\n",
       "      <td>High Park, The Junction South</td>\n",
       "      <td>43.661608</td>\n",
       "      <td>-79.464763</td>\n",
       "    </tr>\n",
       "    <tr>\n",
       "      <th>73</th>\n",
       "      <td>M4R</td>\n",
       "      <td>Central Toronto</td>\n",
       "      <td>North Toronto West, Lawrence Park</td>\n",
       "      <td>43.715383</td>\n",
       "      <td>-79.405678</td>\n",
       "    </tr>\n",
       "    <tr>\n",
       "      <th>74</th>\n",
       "      <td>M5R</td>\n",
       "      <td>Central Toronto</td>\n",
       "      <td>The Annex, North Midtown, Yorkville</td>\n",
       "      <td>43.672710</td>\n",
       "      <td>-79.405678</td>\n",
       "    </tr>\n",
       "    <tr>\n",
       "      <th>75</th>\n",
       "      <td>M6R</td>\n",
       "      <td>West Toronto</td>\n",
       "      <td>Parkdale, Roncesvalles</td>\n",
       "      <td>43.648960</td>\n",
       "      <td>-79.456325</td>\n",
       "    </tr>\n",
       "    <tr>\n",
       "      <th>79</th>\n",
       "      <td>M4S</td>\n",
       "      <td>Central Toronto</td>\n",
       "      <td>Davisville</td>\n",
       "      <td>43.704324</td>\n",
       "      <td>-79.388790</td>\n",
       "    </tr>\n",
       "    <tr>\n",
       "      <th>80</th>\n",
       "      <td>M5S</td>\n",
       "      <td>Downtown Toronto</td>\n",
       "      <td>University of Toronto, Harbord</td>\n",
       "      <td>43.662696</td>\n",
       "      <td>-79.400049</td>\n",
       "    </tr>\n",
       "    <tr>\n",
       "      <th>81</th>\n",
       "      <td>M6S</td>\n",
       "      <td>West Toronto</td>\n",
       "      <td>Runnymede, Swansea</td>\n",
       "      <td>43.651571</td>\n",
       "      <td>-79.484450</td>\n",
       "    </tr>\n",
       "    <tr>\n",
       "      <th>83</th>\n",
       "      <td>M4T</td>\n",
       "      <td>Central Toronto</td>\n",
       "      <td>Moore Park, Summerhill East</td>\n",
       "      <td>43.689574</td>\n",
       "      <td>-79.383160</td>\n",
       "    </tr>\n",
       "    <tr>\n",
       "      <th>84</th>\n",
       "      <td>M5T</td>\n",
       "      <td>Downtown Toronto</td>\n",
       "      <td>Kensington Market, Chinatown, Grange Park</td>\n",
       "      <td>43.653206</td>\n",
       "      <td>-79.400049</td>\n",
       "    </tr>\n",
       "    <tr>\n",
       "      <th>86</th>\n",
       "      <td>M4V</td>\n",
       "      <td>Central Toronto</td>\n",
       "      <td>Summerhill West, Rathnelly, South Hill, Forest...</td>\n",
       "      <td>43.686412</td>\n",
       "      <td>-79.400049</td>\n",
       "    </tr>\n",
       "    <tr>\n",
       "      <th>87</th>\n",
       "      <td>M5V</td>\n",
       "      <td>Downtown Toronto</td>\n",
       "      <td>CN Tower, King and Spadina, Railway Lands, Har...</td>\n",
       "      <td>43.628947</td>\n",
       "      <td>-79.394420</td>\n",
       "    </tr>\n",
       "    <tr>\n",
       "      <th>91</th>\n",
       "      <td>M4W</td>\n",
       "      <td>Downtown Toronto</td>\n",
       "      <td>Rosedale</td>\n",
       "      <td>43.679563</td>\n",
       "      <td>-79.377529</td>\n",
       "    </tr>\n",
       "    <tr>\n",
       "      <th>92</th>\n",
       "      <td>M5W</td>\n",
       "      <td>Downtown Toronto</td>\n",
       "      <td>Stn A PO Boxes</td>\n",
       "      <td>43.646435</td>\n",
       "      <td>-79.374846</td>\n",
       "    </tr>\n",
       "    <tr>\n",
       "      <th>96</th>\n",
       "      <td>M4X</td>\n",
       "      <td>Downtown Toronto</td>\n",
       "      <td>St. James Town, Cabbagetown</td>\n",
       "      <td>43.667967</td>\n",
       "      <td>-79.367675</td>\n",
       "    </tr>\n",
       "    <tr>\n",
       "      <th>97</th>\n",
       "      <td>M5X</td>\n",
       "      <td>Downtown Toronto</td>\n",
       "      <td>First Canadian Place, Underground city</td>\n",
       "      <td>43.648429</td>\n",
       "      <td>-79.382280</td>\n",
       "    </tr>\n",
       "    <tr>\n",
       "      <th>99</th>\n",
       "      <td>M4Y</td>\n",
       "      <td>Downtown Toronto</td>\n",
       "      <td>Church and Wellesley</td>\n",
       "      <td>43.665860</td>\n",
       "      <td>-79.383160</td>\n",
       "    </tr>\n",
       "    <tr>\n",
       "      <th>100</th>\n",
       "      <td>M7Y</td>\n",
       "      <td>East Toronto</td>\n",
       "      <td>Business reply mail Processing Centre, South C...</td>\n",
       "      <td>43.662744</td>\n",
       "      <td>-79.321558</td>\n",
       "    </tr>\n",
       "  </tbody>\n",
       "</table>\n",
       "</div>"
      ],
      "text/plain": [
       "    Postal Code           Borough  \\\n",
       "2           M5A  Downtown Toronto   \n",
       "4           M7A  Downtown Toronto   \n",
       "9           M5B  Downtown Toronto   \n",
       "15          M5C  Downtown Toronto   \n",
       "19          M4E      East Toronto   \n",
       "20          M5E  Downtown Toronto   \n",
       "24          M5G  Downtown Toronto   \n",
       "25          M6G  Downtown Toronto   \n",
       "30          M5H  Downtown Toronto   \n",
       "31          M6H      West Toronto   \n",
       "36          M5J  Downtown Toronto   \n",
       "37          M6J      West Toronto   \n",
       "41          M4K      East Toronto   \n",
       "42          M5K  Downtown Toronto   \n",
       "43          M6K      West Toronto   \n",
       "47          M4L      East Toronto   \n",
       "48          M5L  Downtown Toronto   \n",
       "54          M4M      East Toronto   \n",
       "61          M4N   Central Toronto   \n",
       "62          M5N   Central Toronto   \n",
       "67          M4P   Central Toronto   \n",
       "68          M5P   Central Toronto   \n",
       "69          M6P      West Toronto   \n",
       "73          M4R   Central Toronto   \n",
       "74          M5R   Central Toronto   \n",
       "75          M6R      West Toronto   \n",
       "79          M4S   Central Toronto   \n",
       "80          M5S  Downtown Toronto   \n",
       "81          M6S      West Toronto   \n",
       "83          M4T   Central Toronto   \n",
       "84          M5T  Downtown Toronto   \n",
       "86          M4V   Central Toronto   \n",
       "87          M5V  Downtown Toronto   \n",
       "91          M4W  Downtown Toronto   \n",
       "92          M5W  Downtown Toronto   \n",
       "96          M4X  Downtown Toronto   \n",
       "97          M5X  Downtown Toronto   \n",
       "99          M4Y  Downtown Toronto   \n",
       "100         M7Y      East Toronto   \n",
       "\n",
       "                                         Neighbourhood   Latitude  Longitude  \n",
       "2                            Regent Park, Harbourfront  43.654260 -79.360636  \n",
       "4          Queen's Park, Ontario Provincial Government  43.662301 -79.389494  \n",
       "9                             Garden District, Ryerson  43.657162 -79.378937  \n",
       "15                                      St. James Town  43.651494 -79.375418  \n",
       "19                                         The Beaches  43.676357 -79.293031  \n",
       "20                                         Berczy Park  43.644771 -79.373306  \n",
       "24                                  Central Bay Street  43.657952 -79.387383  \n",
       "25                                            Christie  43.669542 -79.422564  \n",
       "30                            Richmond, Adelaide, King  43.650571 -79.384568  \n",
       "31                        Dufferin, Dovercourt Village  43.669005 -79.442259  \n",
       "36   Harbourfront East, Union Station, Toronto Islands  43.640816 -79.381752  \n",
       "37                            Little Portugal, Trinity  43.647927 -79.419750  \n",
       "41                        The Danforth West, Riverdale  43.679557 -79.352188  \n",
       "42            Toronto Dominion Centre, Design Exchange  43.647177 -79.381576  \n",
       "43        Brockton, Parkdale Village, Exhibition Place  43.636847 -79.428191  \n",
       "47                      India Bazaar, The Beaches West  43.668999 -79.315572  \n",
       "48                      Commerce Court, Victoria Hotel  43.648198 -79.379817  \n",
       "54                                     Studio District  43.659526 -79.340923  \n",
       "61                                       Lawrence Park  43.728020 -79.388790  \n",
       "62                                            Roselawn  43.711695 -79.416936  \n",
       "67                                    Davisville North  43.712751 -79.390197  \n",
       "68     Forest Hill North & West, Forest Hill Road Park  43.696948 -79.411307  \n",
       "69                       High Park, The Junction South  43.661608 -79.464763  \n",
       "73                   North Toronto West, Lawrence Park  43.715383 -79.405678  \n",
       "74                 The Annex, North Midtown, Yorkville  43.672710 -79.405678  \n",
       "75                              Parkdale, Roncesvalles  43.648960 -79.456325  \n",
       "79                                          Davisville  43.704324 -79.388790  \n",
       "80                      University of Toronto, Harbord  43.662696 -79.400049  \n",
       "81                                  Runnymede, Swansea  43.651571 -79.484450  \n",
       "83                         Moore Park, Summerhill East  43.689574 -79.383160  \n",
       "84           Kensington Market, Chinatown, Grange Park  43.653206 -79.400049  \n",
       "86   Summerhill West, Rathnelly, South Hill, Forest...  43.686412 -79.400049  \n",
       "87   CN Tower, King and Spadina, Railway Lands, Har...  43.628947 -79.394420  \n",
       "91                                            Rosedale  43.679563 -79.377529  \n",
       "92                                      Stn A PO Boxes  43.646435 -79.374846  \n",
       "96                         St. James Town, Cabbagetown  43.667967 -79.367675  \n",
       "97              First Canadian Place, Underground city  43.648429 -79.382280  \n",
       "99                                Church and Wellesley  43.665860 -79.383160  \n",
       "100  Business reply mail Processing Centre, South C...  43.662744 -79.321558  "
      ]
     },
     "execution_count": 11,
     "metadata": {},
     "output_type": "execute_result"
    }
   ],
   "source": [
    "df_toronto = df_with_coordinate[df_with_coordinate['Borough'].str.contains('Toronto')]\n",
    "df_toronto"
   ]
  },
  {
   "cell_type": "markdown",
   "metadata": {},
   "source": [
    "## Part 3"
   ]
  },
  {
   "cell_type": "markdown",
   "metadata": {},
   "source": [
    "### Get the latitude and longitude values of Toronto"
   ]
  },
  {
   "cell_type": "code",
   "execution_count": 12,
   "metadata": {},
   "outputs": [
    {
     "name": "stdout",
     "output_type": "stream",
     "text": [
      "latitude: 43.6534817 , longitude: -79.3839347\n"
     ]
    }
   ],
   "source": [
    "from geopy.geocoders import Nominatim\n",
    "geo_locator = Nominatim(user_agent=\"toronto_explorer\")\n",
    "location_toronto = geo_locator.geocode(\"Toronto, ON\")\n",
    "latitude_toronto = location_toronto.latitude\n",
    "longitude_toronto = location_toronto.longitude\n",
    "print('latitude:',latitude_toronto,',', 'longitude:',longitude_toronto)"
   ]
  },
  {
   "cell_type": "markdown",
   "metadata": {},
   "source": [
    "### To visualize the map of Toronto using coordinates "
   ]
  },
  {
   "cell_type": "code",
   "execution_count": 13,
   "metadata": {},
   "outputs": [
    {
     "data": {
      "text/html": [
       "<div style=\"width:100%;\"><div style=\"position:relative;width:100%;height:0;padding-bottom:60%;\"><iframe src=\"data:text/html;charset=utf-8;base64,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\" style=\"position:absolute;width:100%;height:100%;left:0;top:0;border:none !important;\" allowfullscreen webkitallowfullscreen mozallowfullscreen></iframe></div></div>"
      ],
      "text/plain": [
       "<folium.folium.Map at 0x2b3682e0da0>"
      ]
     },
     "execution_count": 13,
     "metadata": {},
     "output_type": "execute_result"
    }
   ],
   "source": [
    "import folium\n",
    "Toronto_map=folium.Map(location=[latitude_toronto,longitude_toronto])\n",
    "Toronto_map\n"
   ]
  },
  {
   "cell_type": "markdown",
   "metadata": {},
   "source": [
    "### Explore the Toronto neighbourhood"
   ]
  },
  {
   "cell_type": "code",
   "execution_count": 15,
   "metadata": {},
   "outputs": [
    {
     "data": {
      "text/html": [
       "<div style=\"width:100%;\"><div style=\"position:relative;width:100%;height:0;padding-bottom:60%;\"><iframe src=\"data:text/html;charset=utf-8;base64,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\" style=\"position:absolute;width:100%;height:100%;left:0;top:0;border:none !important;\" allowfullscreen webkitallowfullscreen mozallowfullscreen></iframe></div></div>"
      ],
      "text/plain": [
       "<folium.folium.Map at 0x2b3682e0da0>"
      ]
     },
     "execution_count": 15,
     "metadata": {},
     "output_type": "execute_result"
    }
   ],
   "source": [
    "for latitude_toronto, longitude_toronto, borough, neighborhood in zip(\n",
    "        df_toronto['Latitude'], \n",
    "        df_toronto['Longitude'], \n",
    "        df_toronto['Borough'], \n",
    "        df_toronto['Neighbourhood']):\n",
    "    label = '{}, {}'.format(neighborhood, borough)\n",
    "    label = folium.Popup(label, parse_html=True)\n",
    "    \n",
    "    folium.CircleMarker(\n",
    "        [latitude_toronto, longitude_toronto],\n",
    "        radius=5,\n",
    "        popup=label,\n",
    "        color='blue',\n",
    "        fill=True,\n",
    "        fill_color='#3186cc',\n",
    "        fill_opacity=0.5,\n",
    "        parse_html=False).add_to(Toronto_map)  \n",
    "\n",
    "Toronto_map   "
   ]
  },
  {
   "cell_type": "markdown",
   "metadata": {},
   "source": [
    "### Using K Means Clustering Method, cluster the Toronto dataset"
   ]
  },
  {
   "cell_type": "code",
   "execution_count": 16,
   "metadata": {},
   "outputs": [
    {
     "name": "stderr",
     "output_type": "stream",
     "text": [
      "D:\\Software\\Anaconda\\lib\\site-packages\\ipykernel_launcher.py:5: SettingWithCopyWarning: \n",
      "A value is trying to be set on a copy of a slice from a DataFrame.\n",
      "Try using .loc[row_indexer,col_indexer] = value instead\n",
      "\n",
      "See the caveats in the documentation: http://pandas.pydata.org/pandas-docs/stable/indexing.html#indexing-view-versus-copy\n",
      "  \"\"\"\n"
     ]
    }
   ],
   "source": [
    "from sklearn.cluster import KMeans\n",
    "kmeans=KMeans(n_clusters=5)\n",
    "kmeans.fit(df_toronto.drop(['Postal Code','Borough','Neighbourhood'],axis=1))\n",
    "\n",
    "df_toronto['Cluster Labels']=kmeans.labels_\n"
   ]
  },
  {
   "cell_type": "markdown",
   "metadata": {},
   "source": [
    "### Now, Visualize the toronto map based on cluster data "
   ]
  },
  {
   "cell_type": "code",
   "execution_count": 17,
   "metadata": {},
   "outputs": [
    {
     "data": {
      "text/html": [
       "<div style=\"width:100%;\"><div style=\"position:relative;width:100%;height:0;padding-bottom:60%;\"><iframe src=\"data:text/html;charset=utf-8;base64,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\" style=\"position:absolute;width:100%;height:100%;left:0;top:0;border:none !important;\" allowfullscreen webkitallowfullscreen mozallowfullscreen></iframe></div></div>"
      ],
      "text/plain": [
       "<folium.folium.Map at 0x2b3682e0da0>"
      ]
     },
     "execution_count": 17,
     "metadata": {},
     "output_type": "execute_result"
    }
   ],
   "source": [
    "for latitude_toronto, longitude_toronto, neighborhood, cluster in zip(\n",
    "        df_toronto['Latitude'], \n",
    "        df_toronto['Longitude'], \n",
    "        df_toronto['Neighbourhood'],\n",
    "        df_toronto['Cluster Labels']):\n",
    "    label = folium.Popup(' Cluster ' + str(cluster), parse_html=True)\n",
    "    \n",
    "    folium.CircleMarker(\n",
    "        [latitude_toronto, longitude_toronto],\n",
    "        radius=5,\n",
    "        popup=label,\n",
    "        color='blue',\n",
    "        fill=True,\n",
    "        fill_color='#3186cc',\n",
    "        fill_opacity=0.5,\n",
    "        parse_html=False).add_to(Toronto_map)  \n",
    "\n",
    "Toronto_map  "
   ]
  },
  {
   "cell_type": "markdown",
   "metadata": {},
   "source": [
    "### That's the end of this assignment."
   ]
  },
  {
   "cell_type": "code",
   "execution_count": null,
   "metadata": {},
   "outputs": [],
   "source": []
  }
 ],
 "metadata": {
  "kernelspec": {
   "display_name": "Python 3",
   "language": "python",
   "name": "python3"
  },
  "language_info": {
   "codemirror_mode": {
    "name": "ipython",
    "version": 3
   },
   "file_extension": ".py",
   "mimetype": "text/x-python",
   "name": "python",
   "nbconvert_exporter": "python",
   "pygments_lexer": "ipython3",
   "version": "3.7.3"
  }
 },
 "nbformat": 4,
 "nbformat_minor": 2
}
